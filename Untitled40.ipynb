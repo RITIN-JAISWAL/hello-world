{
  "nbformat": 4,
  "nbformat_minor": 0,
  "metadata": {
    "colab": {
      "provenance": []
    },
    "kernelspec": {
      "name": "python3",
      "display_name": "Python 3"
    },
    "language_info": {
      "name": "python"
    }
  },
  "cells": [
    {
      "cell_type": "code",
      "execution_count": 39,
      "metadata": {
        "id": "HmTqZM45oQa2"
      },
      "outputs": [],
      "source": [
        "import requests\n",
        "client_id = 'Q21JImJSOvZVGzkesVNIdRNy'\n",
        "client_secret = 'WcYIdOGMnhu32W6xMOzabrrlFixXNo9TsDprsRtP3MJiqjDs'\n",
        "\n",
        "params = {'url': 'http://image.everypixel.com/2014.12/67439828186edc79b9be81a4dedea8b03c09a12825b_b.jpg', 'num_keywords': 10}\n",
        "keywords = requests.get('https://api.everypixel.com/v1/keywords', params=params, auth=(client_id, client_secret)).json()\n",
        "\n",
        "with open('/content/girl.jpg','rb') as image:\n",
        "    data = {'data': image}\n",
        "    keywords = requests.post('https://api.everypixel.com/v1/keywords', files=data, auth=(client_id, client_secret)).json()"
      ]
    },
    {
      "cell_type": "code",
      "source": [
        "keywords"
      ],
      "metadata": {
        "colab": {
          "base_uri": "https://localhost:8080/"
        },
        "id": "RLHGVuBKplu3",
        "outputId": "ae934cf2-e8a9-4fa3-cecb-e435fb6ca54d"
      },
      "execution_count": 40,
      "outputs": [
        {
          "output_type": "execute_result",
          "data": {
            "text/plain": [
              "{'keywords': [{'keyword': 'young adult', 'score': 0.88735274572439},\n",
              "  {'keyword': 'women', 'score': 0.8613538943262233},\n",
              "  {'keyword': 'outdoors', 'score': 0.8490316616350551},\n",
              "  {'keyword': 'lifestyles', 'score': 0.7585818316198183},\n",
              "  {'keyword': 'adult', 'score': 0.7251723684264387},\n",
              "  {'keyword': 'young women', 'score': 0.6584293507628174},\n",
              "  {'keyword': 'one person', 'score': 0.6461785287722385},\n",
              "  {'keyword': 'looking at camera', 'score': 0.6455790565239542},\n",
              "  {'keyword': 'caucasian ethnicity', 'score': 0.6118071220745221},\n",
              "  {'keyword': 'portrait', 'score': 0.5373746172601025},\n",
              "  {'keyword': 'casual clothing', 'score': 0.5289290669851234},\n",
              "  {'keyword': 'smiling', 'score': 0.48500251771347574},\n",
              "  {'keyword': 'looking', 'score': 0.4347072178370416},\n",
              "  {'keyword': 'females', 'score': 0.40464427945566417},\n",
              "  {'keyword': 'confidence', 'score': 0.39407662206805216},\n",
              "  {'keyword': 'city life', 'score': 0.3555458260172904},\n",
              "  {'keyword': 'real people', 'score': 0.3443396796870233},\n",
              "  {'keyword': 'standing', 'score': 0.34252049759564884},\n",
              "  {'keyword': 'brown hair', 'score': 0.3305902158420613},\n",
              "  {'keyword': 'sport', 'score': 0.31746347299508676},\n",
              "  {'keyword': 'happiness', 'score': 0.2924147895995131},\n",
              "  {'keyword': 'fashion', 'score': 0.28427937094619743},\n",
              "  {'keyword': 'focus on foreground', 'score': 0.25337996814772235}],\n",
              " 'status': 'ok'}"
            ]
          },
          "metadata": {},
          "execution_count": 40
        }
      ]
    },
    {
      "cell_type": "code",
      "source": [
        "import requests\n",
        "client_id = 'Q21JImJSOvZVGzkesVNIdRNy'\n",
        "client_secret = 'WcYIdOGMnhu32W6xMOzabrrlFixXNo9TsDprsRtP3MJiqjDs'\n",
        "\n",
        "params = {'url': 'http://image.everypixel.com/2014.12/67439828186edc79b9be81a4dedea8b03c09a12825b_b.jpg', 'num_keywords': 10}\n",
        "keywords = requests.get('https://api.everypixel.com/v1/keywords', params=params, auth=(client_id, client_secret)).json()\n",
        "\n",
        "with open('/content/boy.jpg','rb') as image:\n",
        "    data = {'data': image}\n",
        "    keywords = requests.post('https://api.everypixel.com/v1/keywords', files=data, auth=(client_id, client_secret)).json()"
      ],
      "metadata": {
        "id": "PMEvSG1A0K9n"
      },
      "execution_count": 42,
      "outputs": []
    },
    {
      "cell_type": "code",
      "source": [
        "keywords"
      ],
      "metadata": {
        "colab": {
          "base_uri": "https://localhost:8080/"
        },
        "id": "p9qdXGHp0QTG",
        "outputId": "d0458e43-04ce-4746-d838-2d6b41aefb7f"
      },
      "execution_count": 43,
      "outputs": [
        {
          "output_type": "execute_result",
          "data": {
            "text/plain": [
              "{'keywords': [{'keyword': 'one person', 'score': 0.9783457281178755},\n",
              "  {'keyword': 'men', 'score': 0.9655550078569849},\n",
              "  {'keyword': 'caucasian ethnicity', 'score': 0.9407866680001338},\n",
              "  {'keyword': 'young adult', 'score': 0.9396497311951658},\n",
              "  {'keyword': 'portrait', 'score': 0.9394287432934609},\n",
              "  {'keyword': 'males', 'score': 0.8852296001441428},\n",
              "  {'keyword': 'adult', 'score': 0.8846913869636716},\n",
              "  {'keyword': 'looking at camera', 'score': 0.7682691318298737},\n",
              "  {'keyword': 'lifestyles', 'score': 0.6362351196936332},\n",
              "  {'keyword': 'looking', 'score': 0.5709374012658108},\n",
              "  {'keyword': 'outdoors', 'score': 0.5287693886519315},\n",
              "  {'keyword': 'smiling', 'score': 0.5005547103990201},\n",
              "  {'keyword': 'boys', 'score': 0.49401386373249273},\n",
              "  {'keyword': 'fashion', 'score': 0.43762133205765485},\n",
              "  {'keyword': 'casual clothing', 'score': 0.3212288828006164},\n",
              "  {'keyword': 'brown hair', 'score': 0.27623046901053977}],\n",
              " 'status': 'ok'}"
            ]
          },
          "metadata": {},
          "execution_count": 43
        }
      ]
    },
    {
      "cell_type": "code",
      "source": [
        "data"
      ],
      "metadata": {
        "colab": {
          "base_uri": "https://localhost:8080/"
        },
        "id": "PJ0vYxUQ0fEd",
        "outputId": "2c4bbbb9-2d19-44e8-fac2-713dd80b7361"
      },
      "execution_count": 45,
      "outputs": [
        {
          "output_type": "execute_result",
          "data": {
            "text/plain": [
              "{'data': <_io.BufferedReader name='/content/boy.jpg'>}"
            ]
          },
          "metadata": {},
          "execution_count": 45
        }
      ]
    },
    {
      "cell_type": "code",
      "source": [
        "# Define the dictionary\n",
        "data = keywords\n",
        "\n",
        "# Search for the 'women' keyword and extract its score\n",
        "women_score = None  # Initialize with None in case 'women' is not found\n",
        "for keyword_data in data['keywords']:\n",
        "      if keyword_data['keyword'] == 'women':\n",
        "        women_score = keyword_data['score']\n",
        "        break\n",
        "      elif keyword_data['keyword'] == 'men':\n",
        "        men_score = keyword_data['score']\n",
        "        break\n",
        "\n",
        "# Print the score of 'women' if found\n",
        "if women_score is not None:\n",
        "    print(f\"The score for 'women' is: {women_score}\")\n",
        "else:\n",
        "    print(f\"The score for 'men' is: {men_score}\")\n"
      ],
      "metadata": {
        "colab": {
          "base_uri": "https://localhost:8080/"
        },
        "id": "PcU9KyXHxFRo",
        "outputId": "a21264ff-2ba7-48c7-e7ca-7a651d8ce7ae"
      },
      "execution_count": 49,
      "outputs": [
        {
          "output_type": "stream",
          "name": "stdout",
          "text": [
            "The score for 'men' is: 0.9655550078569849\n"
          ]
        }
      ]
    },
    {
      "cell_type": "code",
      "source": [
        "pip install requests"
      ],
      "metadata": {
        "colab": {
          "base_uri": "https://localhost:8080/"
        },
        "id": "Hb9cvrD4oaAH",
        "outputId": "cd90480b-8ff5-4f75-be08-24b16354a734"
      },
      "execution_count": 2,
      "outputs": [
        {
          "output_type": "stream",
          "name": "stdout",
          "text": [
            "Requirement already satisfied: requests in /usr/local/lib/python3.10/dist-packages (2.31.0)\n",
            "Requirement already satisfied: charset-normalizer<4,>=2 in /usr/local/lib/python3.10/dist-packages (from requests) (3.3.0)\n",
            "Requirement already satisfied: idna<4,>=2.5 in /usr/local/lib/python3.10/dist-packages (from requests) (3.4)\n",
            "Requirement already satisfied: urllib3<3,>=1.21.1 in /usr/local/lib/python3.10/dist-packages (from requests) (2.0.6)\n",
            "Requirement already satisfied: certifi>=2017.4.17 in /usr/local/lib/python3.10/dist-packages (from requests) (2023.7.22)\n"
          ]
        }
      ]
    }
  ]
}